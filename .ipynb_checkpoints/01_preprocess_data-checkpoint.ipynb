{
 "cells": [
  {
   "cell_type": "code",
   "execution_count": 12,
   "metadata": {},
   "outputs": [],
   "source": [
    "import os\n",
    "import json\n",
    "import numpy\n",
    "import matplotlib.pyplot as plt\n",
    "from tqdm import tqdm_notebook"
   ]
  },
  {
   "cell_type": "code",
   "execution_count": 13,
   "metadata": {},
   "outputs": [
    {
     "data": {
      "text/plain": [
       "['data_raw/super_mario_bros/mario-6-3_Annotated_Path.txt',\n",
       " 'data_raw/super_mario_bros/mario-8-1_Annotated_Path.txt',\n",
       " 'data_raw/super_mario_bros/mario-6-2_Annotated_Path.txt',\n",
       " 'data_raw/super_mario_bros/mario-6-1_Annotated_Path.txt',\n",
       " 'data_raw/super_mario_bros/mario-5-3_Annotated_Path.txt',\n",
       " 'data_raw/super_mario_bros/mario-7-1_Annotated_Path.txt',\n",
       " 'data_raw/super_mario_bros/mario-1-2_Annotated_Path.txt',\n",
       " 'data_raw/super_mario_bros/mario-3-3_Annotated_Path.txt',\n",
       " 'data_raw/super_mario_bros/mario-2-1_Annotated_Path.txt',\n",
       " 'data_raw/super_mario_bros/mario-4-2_Annotated_Path.txt',\n",
       " 'data_raw/super_mario_bros/mario-1-1_Annotated_Path.txt',\n",
       " 'data_raw/super_mario_bros/mario-4-1_Annotated_Path.txt',\n",
       " 'data_raw/super_mario_bros/mario-3-1_Annotated_Path.txt',\n",
       " 'data_raw/super_mario_bros/mario-5-1_Annotated_Path.txt',\n",
       " 'data_raw/super_mario_bros/mario-1-3_Annotated_Path.txt',\n",
       " 'data_raw/super_mario_bros_2_japan/SuperMarioBros2(J)-World4-1_Annotated_Path.txt',\n",
       " 'data_raw/super_mario_bros_2_japan/SuperMarioBros2(J)-World3-1_Annotated_Path.txt',\n",
       " 'data_raw/super_mario_bros_2_japan/SuperMarioBros2(J)-WorldD-1_Annotated_Path.txt',\n",
       " 'data_raw/super_mario_bros_2_japan/SuperMarioBros2(J)-World8-1_Annotated_Path.txt',\n",
       " 'data_raw/super_mario_bros_2_japan/SuperMarioBros2(J)-World6-3_Annotated_Path.txt',\n",
       " 'data_raw/super_mario_bros_2_japan/SuperMarioBros2(J)-World5-1_Annotated_Path.txt',\n",
       " 'data_raw/super_mario_bros_2_japan/SuperMarioBros2(J)-World1-2_Annotated_Path.txt',\n",
       " 'data_raw/super_mario_bros_2_japan/SuperMarioBros2(J)-World3-3_Annotated_Path.txt',\n",
       " 'data_raw/super_mario_bros_2_japan/SuperMarioBros2(J)-WorldC-2_Annotated_Path.txt',\n",
       " 'data_raw/super_mario_bros_2_japan/SuperMarioBros2(J)-World1-1_Annotated_Path.txt',\n",
       " 'data_raw/super_mario_bros_2_japan/SuperMarioBros2(J)-World2-2_Annotated_Path.txt',\n",
       " 'data_raw/super_mario_bros_2_japan/SuperMarioBros2(J)-World6-1_Annotated_Path.txt',\n",
       " 'data_raw/super_mario_bros_2_japan/SuperMarioBros2(J)-WorldA-3_Annotated_Path.txt',\n",
       " 'data_raw/super_mario_bros_2_japan/SuperMarioBros2(J)-World4-3_Annotated_Path.txt',\n",
       " 'data_raw/super_mario_bros_2_japan/SuperMarioBros2(J)-World4-2_Annotated_Path.txt',\n",
       " 'data_raw/super_mario_bros_2_japan/SuperMarioBros2(J)-WorldA-1_Annotated_Path.txt',\n",
       " 'data_raw/super_mario_bros_2_japan/SuperMarioBros2(J)-World2-1_Annotated_Path.txt',\n",
       " 'data_raw/super_mario_bros_2_japan/SuperMarioBros2(J)-WorldB-3_Annotated_Path.txt',\n",
       " 'data_raw/super_mario_bros_2_japan/SuperMarioBros2(J)-World5-2_Annotated_Path.txt',\n",
       " 'data_raw/super_mario_bros_2_japan/SuperMarioBros2(J)-World2-3_Annotated_Path.txt',\n",
       " 'data_raw/super_mario_bros_2_japan/SuperMarioBros2(J)-World1-3_Annotated_Path.txt',\n",
       " 'data_raw/super_mario_bros_2_japan/SuperMarioBros2(J)-WorldB-1_Annotated_Path.txt']"
      ]
     },
     "execution_count": 13,
     "metadata": {},
     "output_type": "execute_result"
    }
   ],
   "source": [
    "dir_1 = \"data_raw/super_mario_bros\"\n",
    "dir_2 = \"data_raw/super_mario_bros_2_japan\"\n",
    "annot_txts = [\n",
    "    os.path.join(dir_1, fn) for fn in os.listdir(dir_1) if fn.split('.')[-1] == 'txt'\n",
    "] + [\n",
    "    os.path.join(dir_2, fn) for fn in os.listdir(dir_2) if fn.split('.')[-1] == 'txt'\n",
    "]\n",
    "annot_txts"
   ]
  },
  {
   "cell_type": "code",
   "execution_count": 14,
   "metadata": {},
   "outputs": [],
   "source": [
    "def load_txt(txt):\n",
    "    with open(txt, 'r') as txt_f:\n",
    "        return txt_f.readlines()"
   ]
  },
  {
   "cell_type": "code",
   "execution_count": 15,
   "metadata": {},
   "outputs": [],
   "source": [
    "with open('data_preprocessed/mario.txt', 'w+') as txt_f:\n",
    "    \n",
    "    for i, fp in enumerate(annot_txts):\n",
    "        \n",
    "        infile = load_txt(fp)\n",
    "        \n",
    "        lines = []\n",
    "        for line in infile:\n",
    "            lines.append(list(line.rstrip()))\n",
    "        \n",
    "        infile_transposed = np.array(lines).T\n",
    "        \n",
    "        for line in infile_transposed:  # each line represents a column\n",
    "            num_chars_to_add = 16 - len(lines)\n",
    "            txt_f.write(\"\".join(['-'] * num_chars_to_add + list(line)))\n",
    "            txt_f.write(\"\\n\")\n",
    "        \n",
    "        if i+1 == len(annot_txts):  # seperate each level with the \")\" character\n",
    "            txt_f.write(\")\")\n",
    "        else:\n",
    "            txt_f.write(\")\\n\")"
   ]
  },
  {
   "cell_type": "code",
   "execution_count": null,
   "metadata": {},
   "outputs": [],
   "source": []
  }
 ],
 "metadata": {
  "kernelspec": {
   "display_name": "Python 3",
   "language": "python",
   "name": "python3"
  },
  "language_info": {
   "codemirror_mode": {
    "name": "ipython",
    "version": 3
   },
   "file_extension": ".py",
   "mimetype": "text/x-python",
   "name": "python",
   "nbconvert_exporter": "python",
   "pygments_lexer": "ipython3",
   "version": "3.7.7"
  },
  "toc": {
   "base_numbering": 1,
   "nav_menu": {},
   "number_sections": true,
   "sideBar": true,
   "skip_h1_title": false,
   "title_cell": "Table of Contents",
   "title_sidebar": "Contents",
   "toc_cell": false,
   "toc_position": {},
   "toc_section_display": true,
   "toc_window_display": false
  },
  "varInspector": {
   "cols": {
    "lenName": 16,
    "lenType": 16,
    "lenVar": 40
   },
   "kernels_config": {
    "python": {
     "delete_cmd_postfix": "",
     "delete_cmd_prefix": "del ",
     "library": "var_list.py",
     "varRefreshCmd": "print(var_dic_list())"
    },
    "r": {
     "delete_cmd_postfix": ") ",
     "delete_cmd_prefix": "rm(",
     "library": "var_list.r",
     "varRefreshCmd": "cat(var_dic_list()) "
    }
   },
   "types_to_exclude": [
    "module",
    "function",
    "builtin_function_or_method",
    "instance",
    "_Feature"
   ],
   "window_display": false
  }
 },
 "nbformat": 4,
 "nbformat_minor": 4
}
